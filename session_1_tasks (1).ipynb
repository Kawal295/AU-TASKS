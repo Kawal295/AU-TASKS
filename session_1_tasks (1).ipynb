{
  "cells": [
    {
      "cell_type": "markdown",
      "metadata": {
        "id": "A05OG15VqOPF"
      },
      "source": [
        "# Task : Session 1\n",
        "Solve these questions own your own and try to test yourself what you have learned in the session.\n",
        "\n",
        "Happy Learning!"
      ]
    },
    {
      "cell_type": "markdown",
      "metadata": {
        "id": "2doIXf8bqe9_"
      },
      "source": [
        "### Q1 :- Print the given strings as per stated format.\n",
        "\n",
        "**Given strings**:\n",
        "```\n",
        "\"Data\" \"Science\" \"Mentorship\" \"Program\"\n",
        "\"By\" \"CampusX\"\n",
        "```\n",
        "**Output**:\n",
        "```\n",
        "Data-Science-Mentorship-Program-started-By-CampusX\n",
        "```\n",
        "\n",
        "Concept- [Seperator and End]"
      ]
    },
    {
      "cell_type": "code",
      "execution_count": 1,
      "metadata": {
        "id": "-em6d3KErDtp"
      },
      "outputs": [
        {
          "name": "stdout",
          "output_type": "stream",
          "text": [
            "Data-Science-Mentorship-Program-By-CampusX\n"
          ]
        }
      ],
      "source": [
        "print(\"Data\",\"Science\",\"Mentorship\",\"Program\",end=\"-\",sep=\"-\")\n",
        "print(\"By\",\"CampusX\",sep=\"-\")"
      ]
    },
    {
      "cell_type": "markdown",
      "metadata": {
        "id": "1KUpN7ZTrC3_"
      },
      "source": [
        "### Q2:- Write a program that will convert celsius value to fahrenheit."
      ]
    },
    {
      "cell_type": "code",
      "execution_count": null,
      "metadata": {
        "id": "yxKYhYQiqWfj"
      },
      "outputs": [],
      "source": [
        "celcius=float(input(\"Enter temperature in celcius - \"))\n",
        "fahrenheit=(celcius*(9/5)+32)\n",
        "print(\"Temperature in fahrenheit = \",fahrenheit)"
      ]
    },
    {
      "cell_type": "markdown",
      "metadata": {
        "id": "RLrOBBJurLB2"
      },
      "source": [
        "### Q3:- Take 2 numbers as input from the user.Write a program to swap the numbers without using any special python syntax."
      ]
    },
    {
      "cell_type": "code",
      "execution_count": null,
      "metadata": {
        "id": "yPn7if0TrJ4F"
      },
      "outputs": [],
      "source": [
        "number1=int(input(\"Enter first number - \"))\n",
        "number2=int(input(\"Enter second number - \"))\n",
        "number1,number2 = number2,number1\n",
        "print(\"Swapped numbers -\",number1,number2,sep=\" \")"
      ]
    },
    {
      "cell_type": "markdown",
      "metadata": {
        "id": "waLCP1bjr7ML"
      },
      "source": [
        "### Q4:- Write a program to find the euclidean distance between two coordinates.Take both the coordinates from the user as input."
      ]
    },
    {
      "cell_type": "code",
      "execution_count": null,
      "metadata": {
        "id": "Pl1Sv-xnrxnH"
      },
      "outputs": [],
      "source": [
        "x1=float(input(\"Enter value of x1 - \"))\n",
        "y1=float(input(\"Enter value of y1 - \"))\n",
        "x2=float(input(\"Enter value of x2 - \"))\n",
        "y2=float(input(\"Enter value of y2 - \"))\n",
        "euclidean_distance=((x2-x1)**2 +(y2-y1)**2)**0.5\n",
        "print(\"Euclidean distance b/w\",x1,\",\",y1,\"and\",x2,\",\",y2,\"is\",euclidean_distance)"
      ]
    },
    {
      "cell_type": "markdown",
      "metadata": {
        "id": "VLrhg-FRsHjR"
      },
      "source": [
        "### Q5:- Write a program to find the simple interest when the value of principle,rate of interest and time period is provided by the user.\n"
      ]
    },
    {
      "cell_type": "code",
      "execution_count": null,
      "metadata": {
        "id": "s40DlReZsTmY"
      },
      "outputs": [],
      "source": [
        "p=int(input(\"Enter principle amount - \"))\n",
        "r=float(input(\"Enter rate of interest - \"))\n",
        "t=float(input(\"Enter time(in years) - \"))\n",
        "simpleInterest=(p*r*t)/100\n",
        "print(\"Simple Interest = \",simpleInterest)\n",
        "print(\"Total value = \",p+simpleInterest)"
      ]
    },
    {
      "cell_type": "markdown",
      "metadata": {
        "id": "LMy0BTUktYKa"
      },
      "source": [
        "### Q6:- Write a program that will tell the number of dogs and chicken are there when the user will provide the value of total heads and legs.\n",
        "\n",
        "For example:\n",
        "Input:\n",
        "heads -> 4\n",
        "legs -> 12\n",
        "<br>\n",
        "Output:\n",
        "dogs -> 2\n",
        "chicken -> 2\n",
        "\n",
        "\n",
        "\n"
      ]
    },
    {
      "cell_type": "code",
      "execution_count": null,
      "metadata": {
        "id": "XSBvJoA4tXaG"
      },
      "outputs": [],
      "source": [
        "heads=int(input(\"Enter heads - \"))\n",
        "legs=int(input(\"Enter  legs - \"))\n",
        "#dogs+chicken=heads\n",
        "#4*dogs+2*chicken=legs\n",
        "dogs=legs//2 - heads\n",
        "chicken=heads - dogs\n",
        "if(4*dogs + 2*chicken)!=legs or dogs<0 or chicken<0:\n",
        "    print(\"NOT POSSIBLE\")\n",
        "else:\n",
        "    print(\"no. of dogs - \",dogs)\n",
        "    print(\"no. of chicken - \",chicken)    "
      ]
    },
    {
      "cell_type": "markdown",
      "metadata": {
        "id": "gJ7C5kZYt4BP"
      },
      "source": [
        "### Q7:- Write a program to find the sum of squares of first n natural numbers where n will be provided by the user."
      ]
    },
    {
      "cell_type": "code",
      "execution_count": null,
      "metadata": {
        "id": "_tHsmEHzt2nX"
      },
      "outputs": [],
      "source": [
        "n=5\n",
        "sum=0\n",
        "for i in range(1,n+1):\n",
        "    sum=sum+(i**2)\n",
        "print(\"Sum of Squares of first\",n,\"numbers =\",sum,sep=\" \")    "
      ]
    },
    {
      "cell_type": "markdown",
      "metadata": {
        "id": "FHrMM7g-yG1h"
      },
      "source": [
        "### Q8:- Given the first 2 terms of an Arithmetic Series.Find the Nth term of the series. Assume all inputs are provided by the user."
      ]
    },
    {
      "cell_type": "code",
      "execution_count": null,
      "metadata": {
        "id": "go4_kmZmyVSx"
      },
      "outputs": [],
      "source": [
        "n1=4\n",
        "n2=7\n",
        "n=100\n",
        "nth_term=n1+(n-1)*(n2-n1)\n",
        "print(\"Nth term - \",nth_term)"
      ]
    },
    {
      "cell_type": "markdown",
      "metadata": {
        "id": "QgyRX_es1oum"
      },
      "source": [
        "### Q9:- Given 2 fractions, find the sum of those 2 fractions.Take the numerator and denominator values of the fractions from the user."
      ]
    },
    {
      "cell_type": "code",
      "execution_count": null,
      "metadata": {
        "id": "X05xqFS1yW16"
      },
      "outputs": [],
      "source": [
        "import math\n",
        "n1=int(input(\"Enter 1st numerator - \"))\n",
        "n2=int(input(\"Enter 2st numerator - \"))\n",
        "d1=int(input(\"Enter 1st denominator - \"))\n",
        "d2=int(input(\"Enter 2st denominator - \"))\n",
        "lcm=math.lcm(d1,d2)\n",
        "n1=int(n1*(lcm/d1))\n",
        "n2=int(n2*(lcm/d2))\n",
        "print(\"Sum of the fraction = \",n1+n2,\"/\",lcm)"
      ]
    },
    {
      "cell_type": "markdown",
      "metadata": {
        "id": "eaql38ln13u7"
      },
      "source": [
        "### Q10:- Given the height, width and breadth of a milk tank, you have to find out how many glasses of milk can be obtained? Assume all the inputs are provided by the user.\n",
        "\n",
        "\n",
        "\n",
        "Input:<br>\n",
        "Dimensions of the milk tank<br>\n",
        "H = 20cm, L = 20cm, B = 20cm\n",
        "<br><br>\n",
        "Dimensions of the glass<br>\n",
        "h = 3cm, r = 1cm"
      ]
    },
    {
      "cell_type": "code",
      "execution_count": null,
      "metadata": {
        "id": "FePZqno74eWv"
      },
      "outputs": [],
      "source": [
        "H=20\n",
        "L=20\n",
        "B=20\n",
        "h=3\n",
        "r=1\n",
        "volume_tank=H*L*B\n",
        "volume_glass=3.14*(r**2)*h\n",
        "glasses=int(volume_tank//volume_glass)\n",
        "print(\"Glasses of milk =\",glasses,\"glasses\")"
      ]
    }
  ],
  "metadata": {
    "colab": {
      "provenance": []
    },
    "kernelspec": {
      "display_name": "Python 3",
      "name": "python3"
    },
    "language_info": {
      "codemirror_mode": {
        "name": "ipython",
        "version": 3
      },
      "file_extension": ".py",
      "mimetype": "text/x-python",
      "name": "python",
      "nbconvert_exporter": "python",
      "pygments_lexer": "ipython3",
      "version": "3.13.3"
    }
  },
  "nbformat": 4,
  "nbformat_minor": 0
}
